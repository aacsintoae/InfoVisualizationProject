{
 "cells": [
  {
   "cell_type": "code",
   "execution_count": 1,
   "id": "728a6501",
   "metadata": {},
   "outputs": [],
   "source": [
    "import os\n",
    "import shutil\n",
    "\n",
    "import tensorflow as tf\n",
    "import tensorflow_hub as hub\n",
    "import tensorflow_text as text\n",
    "from official.nlp import optimization  # to create AdamW optimizer\n",
    "\n",
    "import matplotlib.pyplot as plt\n",
    "\n",
    "tf.get_logger().setLevel('ERROR')"
   ]
  },
  {
   "cell_type": "code",
   "execution_count": 2,
   "id": "b69c7cdc",
   "metadata": {},
   "outputs": [],
   "source": [
    "import pandas as pd\n",
    "import numpy as np\n",
    "import torch\n",
    "import torch.nn as nn\n",
    "import torch.optim as optim\n",
    "import csv\n",
    "from sklearn.utils import shuffle\n",
    "import tensorflow as tf\n",
    "import jovian\n",
    "import pandas as pd\n",
    "import numpy as np\n",
    "import matplotlib.pyplot as plt\n",
    "import seaborn as sns\n",
    "%matplotlib inline\n",
    "import matplotlib"
   ]
  },
  {
   "cell_type": "code",
   "execution_count": 16,
   "id": "15b89747",
   "metadata": {},
   "outputs": [],
   "source": [
    "import pandas as pd\n",
    "import torch\n",
    "import numpy as np\n",
    "from transformers import BertTokenizer, BertModel\n",
    "from torch import nn\n",
    "from torch.optim import Adam\n",
    "from tqdm import tqdm\n",
    "import pandas as pd\n",
    "import numpy as np\n",
    "import torch\n",
    "import torch.nn as nn\n",
    "import torch.optim as optim\n",
    "import csv\n",
    "from sklearn.utils import shuffle\n",
    "import tensorflow as tf\n",
    "import pandas as pd\n",
    "import torch\n",
    "import numpy as np\n",
    "from transformers import BertTokenizer, BertModel , AutoModel\n",
    "from torch import nn\n",
    "from torch.optim import Adam\n",
    "from tqdm import tqdm\n",
    "import os \n",
    "import string \n",
    "import glob"
   ]
  },
  {
   "cell_type": "code",
   "execution_count": 53,
   "id": "4c7f1ab4",
   "metadata": {
    "scrolled": true
   },
   "outputs": [
    {
     "name": "stdout",
     "output_type": "stream",
     "text": [
      "  show_id     type                  title         director  \\\n",
      "0      s1    Movie   Dick Johnson Is Dead  Kirsten Johnson   \n",
      "1      s2  TV Show          Blood & Water              NaN   \n",
      "2      s3  TV Show              Ganglands  Julien Leclercq   \n",
      "3      s4  TV Show  Jailbirds New Orleans              NaN   \n",
      "4      s5  TV Show           Kota Factory              NaN   \n",
      "\n",
      "                                                cast        country  \\\n",
      "0                                                NaN  United States   \n",
      "1  Ama Qamata, Khosi Ngema, Gail Mabalane, Thaban...   South Africa   \n",
      "2  Sami Bouajila, Tracy Gotoas, Samuel Jouy, Nabi...            NaN   \n",
      "3                                                NaN            NaN   \n",
      "4  Mayur More, Jitendra Kumar, Ranjan Raj, Alam K...          India   \n",
      "\n",
      "           date_added  release_year rating   duration  \\\n",
      "0  September 25, 2021          2020  PG-13     90 min   \n",
      "1  September 24, 2021          2021  TV-MA  2 Seasons   \n",
      "2  September 24, 2021          2021  TV-MA   1 Season   \n",
      "3  September 24, 2021          2021  TV-MA   1 Season   \n",
      "4  September 24, 2021          2021  TV-MA  2 Seasons   \n",
      "\n",
      "                                           listed_in  \\\n",
      "0                                      Documentaries   \n",
      "1    International TV Shows, TV Dramas, TV Mysteries   \n",
      "2  Crime TV Shows, International TV Shows, TV Act...   \n",
      "3                             Docuseries, Reality TV   \n",
      "4  International TV Shows, Romantic TV Shows, TV ...   \n",
      "\n",
      "                                         description  \n",
      "0  As her father nears the end of his life, filmm...  \n",
      "1  After crossing paths at a party, a Cape Town t...  \n",
      "2  To protect his family from a powerful drug lor...  \n",
      "3  Feuds, flirtations and toilet talk go down amo...  \n",
      "4  In a city of coaching centers known to train I...  \n"
     ]
    }
   ],
   "source": [
    "device = torch.device('cpu') \n",
    "data_path   = '/Users/catalina.chirita/Desktop/Disertatie/'\n",
    "train_path = data_path + \"netflix_titles.csv\"\n",
    "\n",
    "pd_train = pd.read_csv(train_path, delimiter=',', quotechar='\"', quoting=csv.QUOTE_MINIMAL)\n",
    "print(pd_train.head())"
   ]
  },
  {
   "cell_type": "markdown",
   "id": "a2d87ec1",
   "metadata": {},
   "source": [
    "## Data Preparation and Cleaning"
   ]
  },
  {
   "cell_type": "code",
   "execution_count": 54,
   "id": "2f019763",
   "metadata": {},
   "outputs": [],
   "source": [
    "pd_train.drop(columns = ['title','director','cast','country','date_added','release_year','rating','duration','listed_in'], axis =1 , inplace = True)"
   ]
  },
  {
   "cell_type": "code",
   "execution_count": 55,
   "id": "a9b19e4c",
   "metadata": {},
   "outputs": [
    {
     "name": "stdout",
     "output_type": "stream",
     "text": [
      "  show_id     type                                        description\n",
      "0      s1    Movie  As her father nears the end of his life, filmm...\n",
      "1      s2  TV Show  After crossing paths at a party, a Cape Town t...\n",
      "2      s3  TV Show  To protect his family from a powerful drug lor...\n",
      "3      s4  TV Show  Feuds, flirtations and toilet talk go down amo...\n",
      "4      s5  TV Show  In a city of coaching centers known to train I...\n"
     ]
    }
   ],
   "source": [
    "print(pd_train.head())"
   ]
  },
  {
   "cell_type": "code",
   "execution_count": 56,
   "id": "ad953042",
   "metadata": {},
   "outputs": [
    {
     "name": "stdout",
     "output_type": "stream",
     "text": [
      "Number of training sentences: 8,807\n",
      "\n"
     ]
    }
   ],
   "source": [
    "print('Number of training sentences: {:,}\\n'.format(pd_train.shape[0]))"
   ]
  },
  {
   "cell_type": "code",
   "execution_count": 57,
   "id": "252dafa5",
   "metadata": {},
   "outputs": [
    {
     "name": "stdout",
     "output_type": "stream",
     "text": [
      "  show_id     type                                        description\n",
      "0      s1    Movie  As her father nears the end of his life, filmm...\n",
      "1      s2  TV Show  After crossing paths at a party, a Cape Town t...\n",
      "2      s3  TV Show  To protect his family from a powerful drug lor...\n",
      "3      s4  TV Show  Feuds, flirtations and toilet talk go down amo...\n",
      "4      s5  TV Show  In a city of coaching centers known to train I...\n"
     ]
    }
   ],
   "source": [
    "pd_train = pd_train.replace('', 'null').replace(' ', 'null').dropna(subset=[\"description\"])\n",
    "print(pd_train.head())"
   ]
  },
  {
   "cell_type": "code",
   "execution_count": 58,
   "id": "0574724d",
   "metadata": {},
   "outputs": [
    {
     "name": "stdout",
     "output_type": "stream",
     "text": [
      "            type                                        description\n",
      "show_id                                                            \n",
      "s1         Movie  As her father nears the end of his life, filmm...\n",
      "s2       TV Show  After crossing paths at a party, a Cape Town t...\n",
      "s3       TV Show  To protect his family from a powerful drug lor...\n",
      "s4       TV Show  Feuds, flirtations and toilet talk go down amo...\n",
      "s5       TV Show  In a city of coaching centers known to train I...\n"
     ]
    }
   ],
   "source": [
    "pd_train= pd_train.set_index('show_id')\n",
    "print(pd_train.head())"
   ]
  },
  {
   "cell_type": "code",
   "execution_count": 59,
   "id": "08c28234",
   "metadata": {},
   "outputs": [
    {
     "data": {
      "text/html": [
       "<div>\n",
       "<style scoped>\n",
       "    .dataframe tbody tr th:only-of-type {\n",
       "        vertical-align: middle;\n",
       "    }\n",
       "\n",
       "    .dataframe tbody tr th {\n",
       "        vertical-align: top;\n",
       "    }\n",
       "\n",
       "    .dataframe thead tr th {\n",
       "        text-align: left;\n",
       "    }\n",
       "\n",
       "    .dataframe thead tr:last-of-type th {\n",
       "        text-align: right;\n",
       "    }\n",
       "</style>\n",
       "<table border=\"1\" class=\"dataframe\">\n",
       "  <thead>\n",
       "    <tr>\n",
       "      <th></th>\n",
       "      <th colspan=\"4\" halign=\"left\">description</th>\n",
       "    </tr>\n",
       "    <tr>\n",
       "      <th></th>\n",
       "      <th>count</th>\n",
       "      <th>unique</th>\n",
       "      <th>top</th>\n",
       "      <th>freq</th>\n",
       "    </tr>\n",
       "    <tr>\n",
       "      <th>type</th>\n",
       "      <th></th>\n",
       "      <th></th>\n",
       "      <th></th>\n",
       "      <th></th>\n",
       "    </tr>\n",
       "  </thead>\n",
       "  <tbody>\n",
       "    <tr>\n",
       "      <th>Movie</th>\n",
       "      <td>6131</td>\n",
       "      <td>6105</td>\n",
       "      <td>Paranormal activity at a lush, abandoned prope...</td>\n",
       "      <td>4</td>\n",
       "    </tr>\n",
       "    <tr>\n",
       "      <th>TV Show</th>\n",
       "      <td>2676</td>\n",
       "      <td>2672</td>\n",
       "      <td>This educational series for tiny tots features...</td>\n",
       "      <td>2</td>\n",
       "    </tr>\n",
       "  </tbody>\n",
       "</table>\n",
       "</div>"
      ],
      "text/plain": [
       "        description                                                            \\\n",
       "              count unique                                                top   \n",
       "type                                                                            \n",
       "Movie          6131   6105  Paranormal activity at a lush, abandoned prope...   \n",
       "TV Show        2676   2672  This educational series for tiny tots features...   \n",
       "\n",
       "              \n",
       "        freq  \n",
       "type          \n",
       "Movie      4  \n",
       "TV Show    2  "
      ]
     },
     "execution_count": 59,
     "metadata": {},
     "output_type": "execute_result"
    }
   ],
   "source": [
    "pd_train.groupby('type').describe()"
   ]
  },
  {
   "cell_type": "code",
   "execution_count": 60,
   "id": "b90f90f0",
   "metadata": {},
   "outputs": [
    {
     "data": {
      "text/plain": [
       "(6131, 2)"
      ]
     },
     "execution_count": 60,
     "metadata": {},
     "output_type": "execute_result"
    }
   ],
   "source": [
    "df_movie = pd_train[pd_train['type'] == 'Movie']\n",
    "df_movie.shape"
   ]
  },
  {
   "cell_type": "code",
   "execution_count": 61,
   "id": "bb9f5dd6",
   "metadata": {},
   "outputs": [
    {
     "data": {
      "text/plain": [
       "(2676, 2)"
      ]
     },
     "execution_count": 61,
     "metadata": {},
     "output_type": "execute_result"
    }
   ],
   "source": [
    "df_tvshow = pd_train[pd_train['type'] == 'TV Show']\n",
    "df_tvshow.shape"
   ]
  },
  {
   "cell_type": "code",
   "execution_count": 62,
   "id": "350b1b26",
   "metadata": {},
   "outputs": [
    {
     "name": "stdout",
     "output_type": "stream",
     "text": [
      "TV Show    2676\n",
      "Movie      2676\n",
      "Name: type, dtype: int64\n"
     ]
    }
   ],
   "source": [
    "df_movie_downsampled = df_movie.sample(df_tvshow.shape[0])\n",
    "df_balanced = pd.concat([df_tvshow,df_movie_downsampled])\n",
    "print(df_balanced['type'].value_counts())"
   ]
  },
  {
   "cell_type": "code",
   "execution_count": 63,
   "id": "57cc4e98",
   "metadata": {},
   "outputs": [
    {
     "data": {
      "text/html": [
       "<div>\n",
       "<style scoped>\n",
       "    .dataframe tbody tr th:only-of-type {\n",
       "        vertical-align: middle;\n",
       "    }\n",
       "\n",
       "    .dataframe tbody tr th {\n",
       "        vertical-align: top;\n",
       "    }\n",
       "\n",
       "    .dataframe thead th {\n",
       "        text-align: right;\n",
       "    }\n",
       "</style>\n",
       "<table border=\"1\" class=\"dataframe\">\n",
       "  <thead>\n",
       "    <tr style=\"text-align: right;\">\n",
       "      <th></th>\n",
       "      <th>type</th>\n",
       "      <th>description</th>\n",
       "    </tr>\n",
       "    <tr>\n",
       "      <th>show_id</th>\n",
       "      <th></th>\n",
       "      <th></th>\n",
       "    </tr>\n",
       "  </thead>\n",
       "  <tbody>\n",
       "    <tr>\n",
       "      <th>s1632</th>\n",
       "      <td>Movie</td>\n",
       "      <td>A wrong turn in the woods becomes a fight for ...</td>\n",
       "    </tr>\n",
       "    <tr>\n",
       "      <th>s4112</th>\n",
       "      <td>TV Show</td>\n",
       "      <td>In the midnight hour, a lone DJ broadcasts the...</td>\n",
       "    </tr>\n",
       "    <tr>\n",
       "      <th>s6077</th>\n",
       "      <td>Movie</td>\n",
       "      <td>After losing his seventh job in a row, a TV pr...</td>\n",
       "    </tr>\n",
       "    <tr>\n",
       "      <th>s2496</th>\n",
       "      <td>TV Show</td>\n",
       "      <td>Revisit the emotional bouts and memorable high...</td>\n",
       "    </tr>\n",
       "    <tr>\n",
       "      <th>s6222</th>\n",
       "      <td>Movie</td>\n",
       "      <td>Half-dog, half-wolf Balto (voiced by Maurice L...</td>\n",
       "    </tr>\n",
       "  </tbody>\n",
       "</table>\n",
       "</div>"
      ],
      "text/plain": [
       "            type                                        description\n",
       "show_id                                                            \n",
       "s1632      Movie  A wrong turn in the woods becomes a fight for ...\n",
       "s4112    TV Show  In the midnight hour, a lone DJ broadcasts the...\n",
       "s6077      Movie  After losing his seventh job in a row, a TV pr...\n",
       "s2496    TV Show  Revisit the emotional bouts and memorable high...\n",
       "s6222      Movie  Half-dog, half-wolf Balto (voiced by Maurice L..."
      ]
     },
     "execution_count": 63,
     "metadata": {},
     "output_type": "execute_result"
    }
   ],
   "source": [
    "df_balanced.sample(5)"
   ]
  },
  {
   "cell_type": "code",
   "execution_count": 64,
   "id": "6b07f8df",
   "metadata": {},
   "outputs": [],
   "source": [
    "def remove_punctuation(text):\n",
    "    punctuationfree=\"\".join([i for i in text if i not in string.punctuation])\n",
    "    return punctuationfree\n",
    "#storing the puntuation free text\n",
    "df_balanced['description']= df_balanced['description'].apply(lambda x:remove_punctuation(x))\n",
    "df_balanced['description']= df_balanced['description'].apply(lambda x: x.lower())"
   ]
  },
  {
   "cell_type": "code",
   "execution_count": 65,
   "id": "ff2c8e39",
   "metadata": {},
   "outputs": [],
   "source": [
    "import nltk\n",
    "from nltk.corpus import stopwords\n",
    "from nltk.tokenize import word_tokenize \n",
    "from nltk.corpus import stopwords\n",
    "\n",
    "df_balanced['description']= df_balanced['description'].apply(lambda x: word_tokenize(x))\n",
    "\n",
    "final_stopwords_list = stopwords.words('english')\n",
    "final_stopwords_list.append('«')\n",
    "final_stopwords_list.append('»')\n",
    "final_stopwords_list.append('’')\n",
    "final_stopwords_list.append('-')\n",
    "def remove_stopwords(text):\n",
    "    output= [i for i in text if i not in final_stopwords_list]\n",
    "    return output\n",
    "def remove_digit(text):\n",
    "    output= [c for c in text if not c.isdigit()]\n",
    "    return output\n",
    "\n",
    "df_balanced['description']= df_balanced['description'].apply(lambda x:remove_stopwords(x))\n",
    "df_balanced['description']= df_balanced['description'].apply(lambda x:remove_digit(x))\n",
    "\n",
    "for array in range(len(df_balanced['description'])):\n",
    "    df_balanced['description'][array]=' '.join(df_balanced['description'][array]) "
   ]
  },
  {
   "cell_type": "code",
   "execution_count": 66,
   "id": "1650e255",
   "metadata": {},
   "outputs": [
    {
     "data": {
      "text/plain": [
       "'crossing paths party cape town teen sets prove whether privateschool swimming star sister abducted birth'"
      ]
     },
     "execution_count": 66,
     "metadata": {},
     "output_type": "execute_result"
    }
   ],
   "source": [
    "df_balanced['description'][0]"
   ]
  },
  {
   "cell_type": "code",
   "execution_count": 67,
   "id": "250bb343",
   "metadata": {},
   "outputs": [],
   "source": [
    "class BertClassifier(nn.Module):\n",
    "\n",
    "    def __init__(self, dropout=0.5):\n",
    "\n",
    "        super(BertClassifier, self).__init__()\n",
    "\n",
    "        self.bert = AutoModel.from_pretrained(\"bert-base-uncased\")\n",
    "        self.dropout = nn.Dropout(dropout)\n",
    "        self.linear = nn.Linear(768, 2)\n",
    "        self.relu = nn.ReLU()\n",
    "\n",
    "    def forward(self, input_id, mask):\n",
    "\n",
    "        _, pooled_output = self.bert(input_ids= input_id, attention_mask=mask,return_dict=False)\n",
    "        dropout_output = self.dropout(pooled_output)\n",
    "        linear_output = self.linear(dropout_output)\n",
    "        final_layer = self.relu(linear_output)\n",
    "        return final_layer"
   ]
  },
  {
   "cell_type": "code",
   "execution_count": 68,
   "id": "0c414b73",
   "metadata": {},
   "outputs": [],
   "source": [
    "from transformers import AutoTokenizer, AutoModel\n",
    "import torch\n",
    "# load tokenizer and model\n",
    "tokenizer = AutoTokenizer.from_pretrained(\"bert-base-uncased\")\n",
    "\n",
    "labels = {'Movie':0,\n",
    "          'TV Show':1\n",
    "          }\n",
    "\n",
    "class Dataset(torch.utils.data.Dataset):\n",
    "\n",
    "    def __init__(self, df):\n",
    "\n",
    "        self.labels = [labels[label] for label in df['type']]\n",
    "        self.texts = [tokenizer(text, \n",
    "                               padding='max_length', max_length = 512, truncation=True,\n",
    "                                return_tensors=\"pt\") for text in df['description']]\n",
    "\n",
    "    def classes(self):\n",
    "        return self.labels\n",
    "\n",
    "    def __len__(self):\n",
    "        return len(self.labels)\n",
    "\n",
    "    def get_batch_labels(self, idx):\n",
    "        # Fetch a batch of labels\n",
    "        return np.array(self.labels[idx])\n",
    "\n",
    "    def get_batch_texts(self, idx):\n",
    "        # Fetch a batch of inputs\n",
    "        return self.texts[idx]\n",
    "\n",
    "    def __getitem__(self, idx):\n",
    "\n",
    "        batch_texts = self.get_batch_texts(idx)\n",
    "        batch_y = self.get_batch_labels(idx)\n",
    "\n",
    "        return batch_texts, batch_y\n",
    "    "
   ]
  },
  {
   "cell_type": "code",
   "execution_count": 69,
   "id": "7ca0f69d",
   "metadata": {},
   "outputs": [],
   "source": [
    "def train(model, train_data, val_data, learning_rate, epochs):\n",
    "\n",
    "    train, val = Dataset(train_data), Dataset(val_data)\n",
    "\n",
    "    train_dataloader = torch.utils.data.DataLoader(train, batch_size=4, shuffle=True)\n",
    "    val_dataloader = torch.utils.data.DataLoader(val, batch_size=4)\n",
    "\n",
    "    use_cuda = torch.cuda.is_available()\n",
    "    device = torch.device(\"cuda\" if use_cuda else \"cpu\")\n",
    "\n",
    "    criterion = nn.CrossEntropyLoss()\n",
    "    optimizer = Adam(model.parameters(), lr= learning_rate)\n",
    "\n",
    "    if use_cuda:\n",
    "\n",
    "            model = model.cuda()\n",
    "            criterion = criterion.cuda()\n",
    "\n",
    "    for epoch_num in range(epochs):\n",
    "\n",
    "            total_acc_train = 0\n",
    "            total_loss_train = 0\n",
    "\n",
    "            for train_input, train_label in tqdm(train_dataloader):\n",
    "\n",
    "                train_label = train_label.to(device)\n",
    "                mask = train_input['attention_mask'].to(device)\n",
    "                input_id = train_input['input_ids'].squeeze(1).to(device)\n",
    "\n",
    "                output = model(input_id, mask)\n",
    "                \n",
    "                batch_loss = criterion(output, train_label)\n",
    "                total_loss_train += batch_loss.item()\n",
    "                \n",
    "                acc = (output.argmax(dim=1) == train_label).sum().item()\n",
    "                total_acc_train += acc\n",
    "\n",
    "                model.zero_grad()\n",
    "                batch_loss.backward()\n",
    "                optimizer.step()\n",
    "            \n",
    "            total_acc_val = 0\n",
    "            total_loss_val = 0\n",
    "\n",
    "            with torch.no_grad():\n",
    "\n",
    "                for val_input, val_label in val_dataloader:\n",
    "\n",
    "                    val_label = val_label.to(device)\n",
    "                    mask = val_input['attention_mask'].to(device)\n",
    "                    input_id = val_input['input_ids'].squeeze(1).to(device)\n",
    "\n",
    "                    output = model(input_id, mask)\n",
    "\n",
    "                    batch_loss = criterion(output, val_label)\n",
    "                    total_loss_val += batch_loss.item()\n",
    "                    \n",
    "                    acc = (output.argmax(dim=1) == val_label).sum().item()\n",
    "                    total_acc_val += acc\n",
    "            \n",
    "            print(\n",
    "                f'Epochs: {epoch_num + 1} | Train Loss: {total_loss_train / len(train_data): .3f} | Train Accuracy: {total_acc_train / len(train_data): .3f} | Val Loss: {total_loss_val / len(val_data): .3f} | Val Accuracy: {total_acc_val / len(val_data): .3f}')\n",
    "                  "
   ]
  },
  {
   "cell_type": "code",
   "execution_count": 70,
   "id": "22ead84f",
   "metadata": {},
   "outputs": [
    {
     "name": "stdout",
     "output_type": "stream",
     "text": [
      "4281 535 536\n"
     ]
    }
   ],
   "source": [
    "from sklearn.model_selection import train_test_split\n",
    "\n",
    "np.random.seed(112)\n",
    "df_train, df_val, df_test = np.split(df_balanced.sample(frac=1, random_state=42), \n",
    "                                     [int(.8*len(df_balanced)), int(.9*len(df_balanced))])\n",
    "\n",
    "print(len(df_train),len(df_val), len(df_test))\n",
    "                        "
   ]
  },
  {
   "cell_type": "code",
   "execution_count": null,
   "id": "107b49e9",
   "metadata": {},
   "outputs": [
    {
     "name": "stderr",
     "output_type": "stream",
     "text": [
      "Some weights of the model checkpoint at bert-base-uncased were not used when initializing BertModel: ['cls.predictions.transform.dense.bias', 'cls.predictions.bias', 'cls.seq_relationship.bias', 'cls.seq_relationship.weight', 'cls.predictions.transform.dense.weight', 'cls.predictions.transform.LayerNorm.weight', 'cls.predictions.decoder.weight', 'cls.predictions.transform.LayerNorm.bias']\n",
      "- This IS expected if you are initializing BertModel from the checkpoint of a model trained on another task or with another architecture (e.g. initializing a BertForSequenceClassification model from a BertForPreTraining model).\n",
      "- This IS NOT expected if you are initializing BertModel from the checkpoint of a model that you expect to be exactly identical (initializing a BertForSequenceClassification model from a BertForSequenceClassification model).\n",
      " 52%|█████▏    | 558/1071 [10:18:01<855:58:18, 6006.82s/it]"
     ]
    }
   ],
   "source": [
    "EPOCHS = 5\n",
    "model = BertClassifier()\n",
    "LR = 1e-6\n",
    "              \n",
    "train(model, df_train, df_val, LR, EPOCHS)"
   ]
  },
  {
   "cell_type": "code",
   "execution_count": null,
   "id": "48447f3f",
   "metadata": {},
   "outputs": [],
   "source": []
  },
  {
   "cell_type": "code",
   "execution_count": null,
   "id": "d27bb0fc",
   "metadata": {},
   "outputs": [],
   "source": []
  },
  {
   "cell_type": "code",
   "execution_count": null,
   "id": "12003e43",
   "metadata": {},
   "outputs": [],
   "source": []
  },
  {
   "cell_type": "code",
   "execution_count": 18,
   "id": "01507c2e",
   "metadata": {},
   "outputs": [
    {
     "name": "stderr",
     "output_type": "stream",
     "text": [
      "2022-05-13 16:02:05.588628: I tensorflow/core/platform/cpu_feature_guard.cc:151] This TensorFlow binary is optimized with oneAPI Deep Neural Network Library (oneDNN) to use the following CPU instructions in performance-critical operations:  AVX2 FMA\n",
      "To enable them in other operations, rebuild TensorFlow with the appropriate compiler flags.\n"
     ]
    }
   ],
   "source": [
    "bert_preprocess = hub.KerasLayer(\"https://tfhub.dev/tensorflow/bert_en_uncased_preprocess/3\")\n",
    "bert_encoder = hub.KerasLayer(\"https://tfhub.dev/tensorflow/bert_en_uncased_L-12_H-768_A-12/4\")"
   ]
  },
  {
   "cell_type": "code",
   "execution_count": 20,
   "id": "9282b622",
   "metadata": {},
   "outputs": [],
   "source": [
    "# Bert layers\n",
    "text_input = tf.keras.layers.Input(shape=(), dtype=tf.string, name='text')\n",
    "preprocessed_text = bert_preprocess(text_input)\n",
    "outputs = bert_encoder(preprocessed_text)\n",
    "\n",
    "#Neural networks layers\n",
    "l = tf.keras.layers.Dropout(0.1, name='droput')(outputs['pooled_output'])\n",
    "l = tf.keras.layers.Dense(1,activation = 'sigmoid', name='output')(l)\n",
    "\n",
    "#construct final model\n",
    "model = tf.keras.Model(inputs = [text_input], outputs=[l])\n"
   ]
  },
  {
   "cell_type": "code",
   "execution_count": 25,
   "id": "79cc3bb8",
   "metadata": {},
   "outputs": [
    {
     "data": {
      "text/plain": [
       "<KerasTensor: shape=(None, 768) dtype=float32 (created by layer 'keras_layer_1')>"
      ]
     },
     "execution_count": 25,
     "metadata": {},
     "output_type": "execute_result"
    }
   ],
   "source": [
    "outputs['pooled_output']"
   ]
  },
  {
   "cell_type": "code",
   "execution_count": 21,
   "id": "c667e371",
   "metadata": {},
   "outputs": [
    {
     "name": "stdout",
     "output_type": "stream",
     "text": [
      "Model: \"model\"\n",
      "__________________________________________________________________________________________________\n",
      " Layer (type)                   Output Shape         Param #     Connected to                     \n",
      "==================================================================================================\n",
      " text (InputLayer)              [(None,)]            0           []                               \n",
      "                                                                                                  \n",
      " keras_layer (KerasLayer)       {'input_type_ids':   0           ['text[0][0]']                   \n",
      "                                (None, 128),                                                      \n",
      "                                 'input_mask': (Non                                               \n",
      "                                e, 128),                                                          \n",
      "                                 'input_word_ids':                                                \n",
      "                                (None, 128)}                                                      \n",
      "                                                                                                  \n",
      " keras_layer_1 (KerasLayer)     {'default': (None,   109482241   ['keras_layer[0][0]',            \n",
      "                                768),                             'keras_layer[0][1]',            \n",
      "                                 'pooled_output': (               'keras_layer[0][2]']            \n",
      "                                None, 768),                                                       \n",
      "                                 'encoder_outputs':                                               \n",
      "                                 [(None, 128, 768),                                               \n",
      "                                 (None, 128, 768),                                                \n",
      "                                 (None, 128, 768),                                                \n",
      "                                 (None, 128, 768),                                                \n",
      "                                 (None, 128, 768),                                                \n",
      "                                 (None, 128, 768),                                                \n",
      "                                 (None, 128, 768),                                                \n",
      "                                 (None, 128, 768),                                                \n",
      "                                 (None, 128, 768),                                                \n",
      "                                 (None, 128, 768),                                                \n",
      "                                 (None, 128, 768),                                                \n",
      "                                 (None, 128, 768)],                                               \n",
      "                                 'sequence_output':                                               \n",
      "                                 (None, 128, 768)}                                                \n",
      "                                                                                                  \n",
      " droput (Dropout)               (None, 768)          0           ['keras_layer_1[0][13]']         \n",
      "                                                                                                  \n",
      " output (Dense)                 (None, 1)            769         ['droput[0][0]']                 \n",
      "                                                                                                  \n",
      "==================================================================================================\n",
      "Total params: 109,483,010\n",
      "Trainable params: 769\n",
      "Non-trainable params: 109,482,241\n",
      "__________________________________________________________________________________________________\n"
     ]
    }
   ],
   "source": [
    "model.summary()"
   ]
  },
  {
   "cell_type": "code",
   "execution_count": 22,
   "id": "b0c69953",
   "metadata": {},
   "outputs": [
    {
     "name": "stdout",
     "output_type": "stream",
     "text": [
      "show_id\n",
      "s5415    Akko enrolls at the Luna Nova Witchcraft Acade...\n",
      "s7177    Award-winning documentarian Burns profiles thr...\n",
      "s3242    It's the \"Nailed It!\" holiday special you've b...\n",
      "s5566    With their mother in jail and bills piling up,...\n",
      "s2896    Traumatized, violent and yearning for love, 9-...\n",
      "                               ...                        \n",
      "s6792    As Havana slowly revolves through the year, wi...\n",
      "s3841    When everyone else mysteriously vanishes from ...\n",
      "s1506    Love snackable, snap-worthy songs? Sing along ...\n",
      "s4127    While investigating an actress’s supposed suic...\n",
      "s6461    The virginal Tracey, who was raised in a stric...\n",
      "Name: description, Length: 4014, dtype: object\n"
     ]
    }
   ],
   "source": [
    "print(pd.Series(X_train))"
   ]
  },
  {
   "cell_type": "code",
   "execution_count": 23,
   "id": "289a0deb",
   "metadata": {},
   "outputs": [
    {
     "data": {
      "text/plain": [
       "(4014,)"
      ]
     },
     "execution_count": 23,
     "metadata": {},
     "output_type": "execute_result"
    }
   ],
   "source": [
    "X_train.shape"
   ]
  },
  {
   "cell_type": "code",
   "execution_count": 24,
   "id": "44e2c802",
   "metadata": {},
   "outputs": [],
   "source": [
    "METRICS = [\n",
    "      tf.keras.metrics.BinaryAccuracy(name='accuracy'),\n",
    "      tf.keras.metrics.Precision(name='precision'),\n",
    "      tf.keras.metrics.Recall(name='recall')\n",
    "]\n",
    "\n",
    "model.compile(optimizer='adam',\n",
    "              loss='binary_crossentropy',\n",
    "              metrics=METRICS)"
   ]
  },
  {
   "cell_type": "code",
   "execution_count": null,
   "id": "1fe38fb0",
   "metadata": {},
   "outputs": [
    {
     "name": "stdout",
     "output_type": "stream",
     "text": [
      "Epoch 1/20\n",
      "126/126 [==============================] - 489s 4s/step - loss: 0.7008 - accuracy: 0.5319 - precision: 0.5308 - recall: 0.5496\n",
      "Epoch 2/20\n",
      "126/126 [==============================] - 498s 4s/step - loss: 0.6804 - accuracy: 0.5655 - precision: 0.5663 - recall: 0.5595\n",
      "Epoch 3/20\n",
      "126/126 [==============================] - 481s 4s/step - loss: 0.6647 - accuracy: 0.5932 - precision: 0.5925 - recall: 0.5969\n",
      "Epoch 4/20\n",
      "126/126 [==============================] - 481s 4s/step - loss: 0.6539 - accuracy: 0.6101 - precision: 0.6074 - recall: 0.6228\n",
      "Epoch 5/20\n",
      "126/126 [==============================] - 483s 4s/step - loss: 0.6409 - accuracy: 0.6295 - precision: 0.6265 - recall: 0.6418\n",
      "Epoch 6/20\n",
      "126/126 [==============================] - 485s 4s/step - loss: 0.6396 - accuracy: 0.6348 - precision: 0.6331 - recall: 0.6413\n",
      "Epoch 7/20\n",
      "126/126 [==============================] - 479s 4s/step - loss: 0.6373 - accuracy: 0.6447 - precision: 0.6442 - recall: 0.6467\n",
      "Epoch 8/20\n",
      "126/126 [==============================] - 520s 4s/step - loss: 0.6255 - accuracy: 0.6525 - precision: 0.6509 - recall: 0.6577\n",
      "Epoch 9/20\n",
      "126/126 [==============================] - 523s 4s/step - loss: 0.6196 - accuracy: 0.6634 - precision: 0.6629 - recall: 0.6652\n",
      "Epoch 10/20\n",
      "126/126 [==============================] - 525s 4s/step - loss: 0.6168 - accuracy: 0.6582 - precision: 0.6551 - recall: 0.6682\n",
      "Epoch 11/20\n",
      "126/126 [==============================] - 526s 4s/step - loss: 0.6144 - accuracy: 0.6689 - precision: 0.6668 - recall: 0.6751\n",
      "Epoch 12/20\n",
      "126/126 [==============================] - 525s 4s/step - loss: 0.6163 - accuracy: 0.6639 - precision: 0.6605 - recall: 0.6746\n",
      "Epoch 13/20\n",
      "126/126 [==============================] - 557s 4s/step - loss: 0.6111 - accuracy: 0.6674 - precision: 0.6639 - recall: 0.6781\n",
      "Epoch 14/20\n",
      " 74/126 [================>.............] - ETA: 5:22 - loss: 0.6007 - accuracy: 0.6719 - precision: 0.6611 - recall: 0.6821"
     ]
    }
   ],
   "source": [
    "model.fit(X_train, y_train, epochs = 20)"
   ]
  },
  {
   "cell_type": "code",
   "execution_count": null,
   "id": "071dbdab",
   "metadata": {},
   "outputs": [],
   "source": [
    "model.evaluate(X_test, y_test)"
   ]
  },
  {
   "cell_type": "code",
   "execution_count": null,
   "id": "e7b88d0e",
   "metadata": {},
   "outputs": [],
   "source": [
    "y_predicted = model.predict(X_test)\n",
    "y_predicted = y_predicted.flatten()"
   ]
  },
  {
   "cell_type": "code",
   "execution_count": null,
   "id": "3b408d28",
   "metadata": {},
   "outputs": [],
   "source": [
    "import numpy as np\n",
    "\n",
    "y_predicted = np.where(y_predicted > 0.5, 1, 0)\n",
    "y_predicted"
   ]
  },
  {
   "cell_type": "code",
   "execution_count": null,
   "id": "365a49a5",
   "metadata": {},
   "outputs": [],
   "source": [
    "from sklearn.metrics import confusion_matrix, classification_report\n",
    "\n",
    "cm = confusion_matrix(y_test, y_predicted)\n",
    "cm "
   ]
  },
  {
   "cell_type": "code",
   "execution_count": null,
   "id": "d262eeab",
   "metadata": {},
   "outputs": [],
   "source": [
    "from matplotlib import pyplot as plt\n",
    "import seaborn as sns\n",
    "sns.heatmap(cm, annot=True, fmt='d')\n",
    "plt.xlabel('Predicted')\n",
    "plt.ylabel('Truth')"
   ]
  },
  {
   "cell_type": "code",
   "execution_count": null,
   "id": "0328330f",
   "metadata": {},
   "outputs": [],
   "source": [
    "print(classification_report(y_test, y_predicted))"
   ]
  },
  {
   "cell_type": "code",
   "execution_count": null,
   "id": "34203d36",
   "metadata": {},
   "outputs": [],
   "source": []
  },
  {
   "cell_type": "code",
   "execution_count": null,
   "id": "3a7cf4d0",
   "metadata": {},
   "outputs": [],
   "source": []
  }
 ],
 "metadata": {
  "kernelspec": {
   "display_name": "Python 3 (ipykernel)",
   "language": "python",
   "name": "python3"
  },
  "language_info": {
   "codemirror_mode": {
    "name": "ipython",
    "version": 3
   },
   "file_extension": ".py",
   "mimetype": "text/x-python",
   "name": "python",
   "nbconvert_exporter": "python",
   "pygments_lexer": "ipython3",
   "version": "3.8.8"
  }
 },
 "nbformat": 4,
 "nbformat_minor": 5
}
